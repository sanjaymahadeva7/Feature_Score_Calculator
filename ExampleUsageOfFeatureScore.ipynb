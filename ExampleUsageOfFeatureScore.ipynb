{
 "cells": [
  {
   "cell_type": "code",
   "execution_count": 1,
   "id": "d74cb8c5-2811-4b78-96a6-166c6d0c2aa1",
   "metadata": {},
   "outputs": [],
   "source": [
    "from FeatureScore import FeatureScoreCalculator"
   ]
  },
  {
   "cell_type": "code",
   "execution_count": 16,
   "id": "9cd5ce4d-8113-487b-8584-52a9aabcf4f0",
   "metadata": {},
   "outputs": [
    {
     "name": "stdout",
     "output_type": "stream",
     "text": [
      "<class 'pandas.core.frame.DataFrame'>\n",
      "RangeIndex: 13320 entries, 0 to 13319\n",
      "Data columns (total 9 columns):\n",
      " #   Column        Non-Null Count  Dtype  \n",
      "---  ------        --------------  -----  \n",
      " 0   area_type     13320 non-null  object \n",
      " 1   availability  13320 non-null  object \n",
      " 2   location      13319 non-null  object \n",
      " 3   size          13304 non-null  object \n",
      " 4   society       7818 non-null   object \n",
      " 5   total_sqft    13320 non-null  object \n",
      " 6   bath          13247 non-null  float64\n",
      " 7   balcony       12711 non-null  float64\n",
      " 8   price         13320 non-null  float64\n",
      "dtypes: float64(3), object(6)\n",
      "memory usage: 936.7+ KB\n"
     ]
    }
   ],
   "source": [
    "import pandas as pd\n",
    "\n",
    "# Load your dataset into a pandas DataFrame\n",
    "data = pd.read_csv(r'C:\\Users\\My PC\\Downloads\\archive\\BHP.csv')\n",
    "data.info()"
   ]
  },
  {
   "cell_type": "code",
   "execution_count": 20,
   "id": "55d2e4d0-bea6-400c-bf5c-db92f3d11b71",
   "metadata": {},
   "outputs": [],
   "source": [
    "target=\"price\""
   ]
  },
  {
   "cell_type": "code",
   "execution_count": 21,
   "id": "b01cc68b-117d-4c58-b148-c43d122d9a8a",
   "metadata": {},
   "outputs": [],
   "source": [
    "calculator = FeatureScoreCalculator(data, target)"
   ]
  },
  {
   "cell_type": "code",
   "execution_count": 22,
   "id": "9f92131d-90a5-4e6a-9c20-8f40298a28ef",
   "metadata": {},
   "outputs": [
    {
     "name": "stdout",
     "output_type": "stream",
     "text": [
      "Feature 1: bath - Correlation Score = 100.00\n",
      "Feature 2: size - Correlation Score = 72.85\n",
      "Feature 3: total_sqft - Correlation Score = 50.66\n",
      "Feature 4: balcony - Correlation Score = 22.83\n",
      "Feature 5: society - Correlation Score = 12.81\n",
      "Feature 6: area_type - Correlation Score = 12.60\n",
      "Feature 7: availability - Correlation Score = 6.83\n",
      "Feature 8: location - Correlation Score = 2.51\n"
     ]
    }
   ],
   "source": [
    "calculator.display_scores()"
   ]
  },
  {
   "cell_type": "code",
   "execution_count": null,
   "id": "bf526181-93c8-40bb-b833-958e10fe4191",
   "metadata": {},
   "outputs": [],
   "source": []
  }
 ],
 "metadata": {
  "kernelspec": {
   "display_name": "Python 3 (ipykernel)",
   "language": "python",
   "name": "python3"
  },
  "language_info": {
   "codemirror_mode": {
    "name": "ipython",
    "version": 3
   },
   "file_extension": ".py",
   "mimetype": "text/x-python",
   "name": "python",
   "nbconvert_exporter": "python",
   "pygments_lexer": "ipython3",
   "version": "3.11.7"
  }
 },
 "nbformat": 4,
 "nbformat_minor": 5
}
